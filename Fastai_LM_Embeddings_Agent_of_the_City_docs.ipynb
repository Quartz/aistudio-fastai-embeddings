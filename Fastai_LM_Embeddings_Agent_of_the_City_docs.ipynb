{
 "cells": [
  {
   "cell_type": "markdown",
   "metadata": {
    "colab_type": "text",
    "id": "e7VrngvMqnMU"
   },
   "source": [
    "# Using Language Model Embeddings to find similar Agent of the City documents\n",
    "\n",
    "Can we use an LSTM language model to find similar documents?\n",
    "\n",
    "We think so. We're going to take apart a Fastai classifier model and put it back together again to generate a 1,200-dimensional embedding of the input document (instead of a binary classification). That 1,200 dimensional embedding is identical to the input to the linear portion of the classification model; we've just lopped off the bottom.\n",
    "\n",
    "Once we have that embedding, we can compare them between documents to have a way to measure the similarity of documents, so we can do an unsupervised clustering of documents. \n",
    "\n",
    "Practically, if we imagine that we're investigative journalists with a pile of documents too big to read, we can find an interesting document manually, then ask the computer to find us more similar documents. "
   ]
  },
  {
   "cell_type": "markdown",
   "metadata": {
    "colab_type": "text",
    "id": "LJ4GFoTprvEc"
   },
   "source": [
    "# Step 0: Get the data\n",
    "\n",
    "We've got a bunch of [emails](https://github.com/Quartz/aistudio-doc2vec-for-investigative-journalism/raw/master/2018.05.24_BerlinRosen_Responsive_Records.pdf) about various city business sent and received by NYC mayor Bill de Blasio. (NYC Politics nerd? These are the \"Agent of the City\" emails.)\n",
    "\n",
    "Each page is a row in this CSV. At the very bottom of the notebook is a snippet for transforming the PDF to CSV."
   ]
  },
  {
   "cell_type": "code",
   "execution_count": 1,
   "metadata": {},
   "outputs": [],
   "source": [
    "csv_file = \"nyc_docs.csv\""
   ]
  },
  {
   "cell_type": "code",
   "execution_count": 15,
   "metadata": {
    "colab": {
     "base_uri": "https://localhost:8080/",
     "height": 34
    },
    "colab_type": "code",
    "id": "PBUyex1vtTNv",
    "outputId": "744a2cb8-507e-4b5d-809a-9bd252e2e0fd"
   },
   "outputs": [
    {
     "name": "stdout",
     "output_type": "stream",
     "text": [
      " 153083  805492 5530396 nyc_docs.csv\r\n"
     ]
    }
   ],
   "source": [
    "!wc nyc_docs.csv"
   ]
  },
  {
   "cell_type": "markdown",
   "metadata": {
    "colab_type": "text",
    "id": "LFyN5ezMsQQt"
   },
   "source": [
    "# Step 1: Training our Language Model\n",
    "\n",
    "this is the same as normal Fastai. Nothin' special.\n",
    "\n",
    "See below for code."
   ]
  },
  {
   "cell_type": "markdown",
   "metadata": {
    "colab_type": "text",
    "id": "1hWzjd-TuLFq"
   },
   "source": [
    "# Step 2: Getting Docuemnt Embeddings\n",
    "\n",
    "We're breaking the model apart into its three constituent pieces, (a) a tokenizer for turning N words into a 1-dimensional array of N integer numbers that represent those words, (b) an encoder that turns those integer numbers into a N x 400-dimensional matrix and (c) average and max pooling layers (ordinarily part of the Fastai [PooledLinearClassifier](https://github.com/fastai/fastai/blob/78864c7599231b17c3012a160e8723f08a002472/fastai/text/learner.py#L221-L228)) that each get tacked onto the last row of the Nx400-dimensional matrix to get a 1x1200-dimensional vector per document."
   ]
  },
  {
   "cell_type": "code",
   "execution_count": 23,
   "metadata": {
    "colab": {},
    "colab_type": "code",
    "id": "UM97DxilvIlI"
   },
   "outputs": [],
   "source": [
    "lm_learn = load_learner('', 'export.pkl')\n",
    "lm_learn.data = data_lm\n",
    "lm_encoder = nn.Sequential(*list(lm_learn.model.children())[:-1]) # lop off the last layer of the language model, the one that transforms a N x 400 vector into N predicted words."
   ]
  },
  {
   "cell_type": "code",
   "execution_count": 24,
   "metadata": {
    "colab": {},
    "colab_type": "code",
    "id": "gtqizxbevi9y"
   },
   "outputs": [],
   "source": [
    "def avg_max_pool(word_vectors): # torch.Size([1, 17, 400])\n",
    "    avg_pool = word_vectors.mean(dim=1)\n",
    "    max_pool = word_vectors.max(dim=1)[0]\n",
    "    return torch.cat([word_vectors[:,-1], max_pool, avg_pool], 1)"
   ]
  },
  {
   "cell_type": "code",
   "execution_count": 25,
   "metadata": {
    "colab": {},
    "colab_type": "code",
    "id": "Uz0Kqt5buuwP"
   },
   "outputs": [],
   "source": [
    "def text2embedding(text):\n",
    "    with torch.no_grad(): # for memory conservation!\n",
    "        numericalized_text, _ = lm_learn.data.one_item(text) # this is the tokenizer, it returns something like [2, 0, 700, 432, 789] for a four word document.\n",
    "        encoder_output = lm_encoder(numericalized_text)\n",
    "        return avg_max_pool(encoder_output[0][-1]).to('cpu')\n"
   ]
  },
  {
   "cell_type": "markdown",
   "metadata": {
    "colab_type": "text",
    "id": "W2jtzbAEziRv"
   },
   "source": [
    "## from English to 400-dimensional vectors\n",
    "\n",
    "Let's vectorize all our documents by running them through the language model. Since this is just a demo, we store the vectors in a dict that maps page numbers to vectors."
   ]
  },
  {
   "cell_type": "code",
   "execution_count": null,
   "metadata": {
    "colab": {},
    "colab_type": "code",
    "id": "HdR21vADznLz"
   },
   "outputs": [],
   "source": [
    "page_vectors = {}\n",
    "with open(csv_file) as csvfile:\n",
    "    reader = csv.DictReader(csvfile)\n",
    "    for row in reader:\n",
    "        page = int(row[\"pagenum\"]) + 1\n",
    "        if page in [1155, 1263, 3814]:\n",
    "            print(page1)\n",
    "            print(row[\"text\"])\n",
    "            print()\n",
    "        page_vectors[page] = text2embedding(row[\"text\"]) # 1-indexed to match the PDF.\n"
   ]
  },
  {
   "cell_type": "markdown",
   "metadata": {
    "colab_type": "text",
    "id": "1evsuC10xULU"
   },
   "source": [
    "## now, let's search\n",
    "\n",
    "Suppose you're a reporter who's interested in writing about the city's response to homelessness. You might read a handful of pages from this document, perhaps Ctrl-F for \"homelessness\" in Preview, and find a few on the topic, p1155, p1263 and p3814. Now you worry you're missing some that don't include that word.\n",
    "\n",
    "Here's how we find them.\n",
    "\n",
    "1. Average the vectors for the homelessness-related pages. This will hopefully leave us with the things that these pages have in common -- i.e. being about homelessness -- and factor out the things that they don't (e.g. the subway or communications plans or whatever.)\n",
    "\n",
    "2. Comparing ALL the other vectors to that average. This is inefficient; we'd be better off using something like FAISS in production for faster searching, but what the heck, this is a demo.\n",
    "\n",
    "3. Read the top most similar documents to make sure they're right, intuitively."
   ]
  },
  {
   "cell_type": "code",
   "execution_count": 30,
   "metadata": {},
   "outputs": [],
   "source": [
    "import numpy\n",
    "from sklearn.metrics.pairwise import cosine_similarity\n",
    "known_pages_about_homelessness = [ # \"seed\" documents\n",
    "    1155, # one-indexed, so this is p1155 in a PDF Viewer, \"Homeless Communications Strategy\"\n",
    "    1263,\n",
    "    3814\n",
    "]"
   ]
  },
  {
   "cell_type": "code",
   "execution_count": null,
   "metadata": {
    "colab": {},
    "colab_type": "code",
    "id": "cxqY_1yQxXdu"
   },
   "outputs": [],
   "source": [
    "def get_embedding(page_num):\n",
    "    return np.array(page_vectors[page_num])\n",
    "\n",
    "homelessness_emb = numpy.average(np.array([get_embedding(page_num) for page_num in known_pages_about_homelessness]), axis=0)\n",
    "search_res = sorted([(page, cosine_similarity(homelessness_emb, np.array(vec))[0][0]) for page, vec in page_vectors.items()], key=lambda x: x[1], reverse=True)\n",
    "\n",
    "for label, sim in search_res[:10]:\n",
    "    print(\"p{}: {:.3f}\".format(label, sim))"
   ]
  },
  {
   "cell_type": "markdown",
   "metadata": {},
   "source": [
    "Here's what the results look like.\n",
    "````\n",
    "p3814: 0.980 -- one of our seed documents.\n",
    "p1155: 0.976 -- one of our seed documents.\n",
    "\n",
    "p3755: 0.969 -- irrelevant -- women in tech press release... irrelevant\n",
    "p3962: 0.969 -- irrelevant -- tax reform conf call... irrelevant\n",
    "p3598: 0.968 -- irrelevant -- food pantries\n",
    "p2684: 0.968 -- irrelevant -- grand central tower press release\n",
    "p2065: 0.968 -- RELEVANT   -- homelessness strategy\n",
    "p2768: 0.967 -- irrelevant -- mental health center opened by Harlem church\n",
    "p3984: 0.967 -- irrelevant -- tax reform conf call\n",
    "p3527: 0.967 -- irrelevant --east midtown rezoning\n",
    "````\n",
    "HMM! How come we're not getting more relevant documents?\n"
   ]
  },
  {
   "cell_type": "markdown",
   "metadata": {},
   "source": [
    "# How to do Step 0 (Getting the data)"
   ]
  },
  {
   "cell_type": "code",
   "execution_count": 13,
   "metadata": {
    "colab": {
     "base_uri": "https://localhost:8080/",
     "height": 187
    },
    "colab_type": "code",
    "id": "oQX_p7cfqV-q",
    "outputId": "6b56e437-d7f9-49c1-da49-667855c2d0c9"
   },
   "outputs": [
    {
     "name": "stdout",
     "output_type": "stream",
     "text": [
      "\u001b[33mWARNING: You are using pip version 19.1.1, however version 19.2.2 is available.\r\n",
      "You should consider upgrading via the 'pip install --upgrade pip' command.\u001b[0m\r\n"
     ]
    }
   ],
   "source": [
    "!wget -q -O emails.pdf -nc https://github.com/Quartz/aistudio-doc2vec-for-investigative-journalism/raw/master/2018.05.24_BerlinRosen_Responsive_Records.pdf\n",
    "!pip3 install --quiet --user PyPDF2\n",
    "import PyPDF2\n",
    "import csv\n",
    "from os.path import exists\n",
    "if not exists(csv_file):\n",
    "    pdf_file = open('emails.pdf', 'rb')\n",
    "    read_pdf = PyPDF2.PdfFileReader(pdf_file)\n",
    "    with open(csv_file, 'w') as f:\n",
    "        csvwriter = csv.writer(f)\n",
    "        csvwriter.writerow([\"pagenum\", \"text\", \"fakelabel\"])\n",
    "        for page_num in range(read_pdf.getNumPages()):\n",
    "            page = read_pdf.getPage(page_num)\n",
    "            page_content = page.extractText().encode('utf-8').decode(\"utf-8\") \n",
    "            if page_content:\n",
    "                csvwriter.writerow([page_num, page_content, None])"
   ]
  },
  {
   "cell_type": "markdown",
   "metadata": {},
   "source": [
    "# How to do Step 1: Language Model training\n",
    "\n",
    "Perfectly vanilla Text Language Model training."
   ]
  },
  {
   "cell_type": "code",
   "execution_count": 17,
   "metadata": {
    "colab": {
     "base_uri": "https://localhost:8080/",
     "height": 51
    },
    "colab_type": "code",
    "id": "4VvDWbE7uCQI",
    "outputId": "0edc0802-878f-4e9e-ff74-5d0d0ba7d646"
   },
   "outputs": [],
   "source": [
    "from fastai.text import *"
   ]
  },
  {
   "cell_type": "code",
   "execution_count": 19,
   "metadata": {
    "colab": {},
    "colab_type": "code",
    "id": "kIzpK9sTr-2g"
   },
   "outputs": [],
   "source": [
    "# Loading in data with the TextLMDataBunch factory class, using all the defaults\n",
    "data_lm = TextLMDataBunch.from_csv('', csv_file, text_cols='text', label_cols='fakelabel', bs=32)\n",
    "data_lm.save('data_lm_tweets')\n",
    "lm_learn = language_model_learner(data_lm, AWD_LSTM, drop_mult=0.3)"
   ]
  },
  {
   "cell_type": "code",
   "execution_count": 10,
   "metadata": {
    "colab": {
     "base_uri": "https://localhost:8080/",
     "height": 300
    },
    "colab_type": "code",
    "id": "B4tKsy74tdNH",
    "outputId": "48abd431-5566-4d59-c13b-fbcd09cc81b6"
   },
   "outputs": [
    {
     "data": {
      "text/html": [],
      "text/plain": [
       "<IPython.core.display.HTML object>"
      ]
     },
     "metadata": {},
     "output_type": "display_data"
    },
    {
     "name": "stdout",
     "output_type": "stream",
     "text": [
      "LR Finder is complete, type {learner_name}.recorder.plot() to see the graph.\n"
     ]
    },
    {
     "data": {
      "image/png": "[encoded data removed]",
      "text/plain": [
       "<Figure size 432x288 with 1 Axes>"
      ]
     },
     "metadata": {},
     "output_type": "display_data"
    }
   ],
   "source": [
    "lm_learn.lr_find()\n",
    "lm_learn.recorder.plot(skip_end=15)"
   ]
  },
  {
   "cell_type": "code",
   "execution_count": 11,
   "metadata": {
    "colab": {
     "base_uri": "https://localhost:8080/",
     "height": 80
    },
    "colab_type": "code",
    "id": "3drPlLLUtri6",
    "outputId": "1356790a-df66-4721-e4d8-84cf83ba085d"
   },
   "outputs": [
    {
     "data": {
      "text/html": [
       "<table border=\"1\" class=\"dataframe\">\n",
       "  <thead>\n",
       "    <tr style=\"text-align: left;\">\n",
       "      <th>epoch</th>\n",
       "      <th>train_loss</th>\n",
       "      <th>valid_loss</th>\n",
       "      <th>accuracy</th>\n",
       "      <th>time</th>\n",
       "    </tr>\n",
       "  </thead>\n",
       "  <tbody>\n",
       "    <tr>\n",
       "      <td>0</td>\n",
       "      <td>2.730899</td>\n",
       "      <td>2.540964</td>\n",
       "      <td>0.510082</td>\n",
       "      <td>02:40</td>\n",
       "    </tr>\n",
       "  </tbody>\n",
       "</table>"
      ],
      "text/plain": [
       "<IPython.core.display.HTML object>"
      ]
     },
     "metadata": {},
     "output_type": "display_data"
    }
   ],
   "source": [
    "lm_learn.fit_one_cycle(1, 1e-2, moms=(0.8,0.7))"
   ]
  },
  {
   "cell_type": "code",
   "execution_count": 12,
   "metadata": {
    "colab": {
     "base_uri": "https://localhost:8080/",
     "height": 80
    },
    "colab_type": "code",
    "id": "7OPW6lmStt5J",
    "outputId": "cdddfdfc-2740-4dd4-b6bd-d5ca24a1aada"
   },
   "outputs": [
    {
     "data": {
      "text/html": [
       "<table border=\"1\" class=\"dataframe\">\n",
       "  <thead>\n",
       "    <tr style=\"text-align: left;\">\n",
       "      <th>epoch</th>\n",
       "      <th>train_loss</th>\n",
       "      <th>valid_loss</th>\n",
       "      <th>accuracy</th>\n",
       "      <th>time</th>\n",
       "    </tr>\n",
       "  </thead>\n",
       "  <tbody>\n",
       "    <tr>\n",
       "      <td>0</td>\n",
       "      <td>2.934283</td>\n",
       "      <td>2.685481</td>\n",
       "      <td>0.501100</td>\n",
       "      <td>02:40</td>\n",
       "    </tr>\n",
       "  </tbody>\n",
       "</table>"
      ],
      "text/plain": [
       "<IPython.core.display.HTML object>"
      ]
     },
     "metadata": {},
     "output_type": "display_data"
    }
   ],
   "source": [
    "lm_learn.fit_one_cycle(1, 1e-1, moms=(0.8,0.7))\n"
   ]
  },
  {
   "cell_type": "code",
   "execution_count": null,
   "metadata": {
    "colab": {},
    "colab_type": "code",
    "id": "RA14QpVStvmm"
   },
   "outputs": [],
   "source": [
    "# optionally save and reload the model (file is about 150MB)\n",
    "lm_learn.save('fit_head')\n",
    "lm_learn.load('fit_head');"
   ]
  },
  {
   "cell_type": "code",
   "execution_count": 14,
   "metadata": {
    "colab": {},
    "colab_type": "code",
    "id": "xL-wh022iGSD"
   },
   "outputs": [
    {
     "data": {
      "text/html": [
       "<table border=\"1\" class=\"dataframe\">\n",
       "  <thead>\n",
       "    <tr style=\"text-align: left;\">\n",
       "      <th>epoch</th>\n",
       "      <th>train_loss</th>\n",
       "      <th>valid_loss</th>\n",
       "      <th>accuracy</th>\n",
       "      <th>time</th>\n",
       "    </tr>\n",
       "  </thead>\n",
       "  <tbody>\n",
       "    <tr>\n",
       "      <td>0</td>\n",
       "      <td>2.323003</td>\n",
       "      <td>2.428123</td>\n",
       "      <td>0.542622</td>\n",
       "      <td>03:10</td>\n",
       "    </tr>\n",
       "    <tr>\n",
       "      <td>1</td>\n",
       "      <td>1.992771</td>\n",
       "      <td>2.080651</td>\n",
       "      <td>0.607066</td>\n",
       "      <td>03:10</td>\n",
       "    </tr>\n",
       "    <tr>\n",
       "      <td>2</td>\n",
       "      <td>1.869722</td>\n",
       "      <td>1.839746</td>\n",
       "      <td>0.657283</td>\n",
       "      <td>03:10</td>\n",
       "    </tr>\n",
       "    <tr>\n",
       "      <td>3</td>\n",
       "      <td>1.360500</td>\n",
       "      <td>1.698494</td>\n",
       "      <td>0.688512</td>\n",
       "      <td>03:10</td>\n",
       "    </tr>\n",
       "    <tr>\n",
       "      <td>4</td>\n",
       "      <td>1.272307</td>\n",
       "      <td>1.623179</td>\n",
       "      <td>0.708805</td>\n",
       "      <td>03:10</td>\n",
       "    </tr>\n",
       "    <tr>\n",
       "      <td>5</td>\n",
       "      <td>1.013083</td>\n",
       "      <td>1.596957</td>\n",
       "      <td>0.720244</td>\n",
       "      <td>03:10</td>\n",
       "    </tr>\n",
       "    <tr>\n",
       "      <td>6</td>\n",
       "      <td>0.905775</td>\n",
       "      <td>1.604948</td>\n",
       "      <td>0.728814</td>\n",
       "      <td>03:10</td>\n",
       "    </tr>\n",
       "    <tr>\n",
       "      <td>7</td>\n",
       "      <td>0.721963</td>\n",
       "      <td>1.613399</td>\n",
       "      <td>0.733486</td>\n",
       "      <td>03:09</td>\n",
       "    </tr>\n",
       "    <tr>\n",
       "      <td>8</td>\n",
       "      <td>0.639916</td>\n",
       "      <td>1.639424</td>\n",
       "      <td>0.735444</td>\n",
       "      <td>03:09</td>\n",
       "    </tr>\n",
       "    <tr>\n",
       "      <td>9</td>\n",
       "      <td>0.641535</td>\n",
       "      <td>1.651715</td>\n",
       "      <td>0.735349</td>\n",
       "      <td>03:09</td>\n",
       "    </tr>\n",
       "  </tbody>\n",
       "</table>"
      ],
      "text/plain": [
       "<IPython.core.display.HTML object>"
      ]
     },
     "metadata": {},
     "output_type": "display_data"
    }
   ],
   "source": [
    "lm_learn.unfreeze()\n",
    "lm_learn.fit_one_cycle(10, 1e-3, moms=(0.8,0.7))\n",
    "lm_learn.save('fine_tuned')\n",
    "lm_learn.save_encoder('fine_tuned_enc')  \n",
    "lm_learn.export()\n"
   ]
  },
  {
   "cell_type": "code",
   "execution_count": 15,
   "metadata": {
    "colab": {},
    "colab_type": "code",
    "id": "F4vErDqWtyoL"
   },
   "outputs": [],
   "source": [
    "# optionally save what we have - file is about 300MB\n",
    "lm_learn.save('fine_tuned')"
   ]
  }
 ],
 "metadata": {
  "colab": {
   "collapsed_sections": [],
   "name": "Fastai LM Embeddings : Agent of the City docs",
   "provenance": [],
   "toc_visible": true,
   "version": "0.3.2"
  },
  "kernelspec": {
   "display_name": "Python 2",
   "language": "python",
   "name": "python2"
  },
  "language_info": {
   "codemirror_mode": {
    "name": "ipython",
    "version": 2
   },
   "file_extension": ".py",
   "mimetype": "text/x-python",
   "name": "python",
   "nbconvert_exporter": "python",
   "pygments_lexer": "ipython2",
   "version": "2.7.16"
  }
 },
 "nbformat": 4,
 "nbformat_minor": 1
}
